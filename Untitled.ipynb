{
 "cells": [
  {
   "cell_type": "code",
   "execution_count": 1,
   "metadata": {},
   "outputs": [],
   "source": [
    "with open(\"words.txt\", \"r\") as fp:\n",
    "    base_words = fp.read().splitlines()\n",
    "    \n",
    "#base_words"
   ]
  },
  {
   "cell_type": "code",
   "execution_count": 17,
   "metadata": {},
   "outputs": [
    {
     "data": {
      "text/plain": [
       "2315"
      ]
     },
     "execution_count": 17,
     "metadata": {},
     "output_type": "execute_result"
    }
   ],
   "source": []
  },
  {
   "cell_type": "code",
   "execution_count": 15,
   "metadata": {},
   "outputs": [
    {
     "name": "stdout",
     "output_type": "stream",
     "text": [
      "3\n"
     ]
    },
    {
     "data": {
      "text/plain": [
       "(['paddy', 'palsy', 'pause'], ['gray', 'green', 'orange', 'orange', 'gray'])"
      ]
     },
     "execution_count": 15,
     "metadata": {},
     "output_type": "execute_result"
    }
   ],
   "source": [
    "remain = removeWordsNotPossibleGOG(base_words,\"pecan\", [\"green\",\"orange\",\"gray\",\"orange\",\"gray\"])\n",
    "remain = removeWordsNotPossibleGOG(remain[0],\"taser\", [\"gray\",\"green\",\"orange\",\"orange\",\"gray\"])\n",
    "print(len(remain[0]))\n",
    "remain"
   ]
  },
  {
   "cell_type": "code",
   "execution_count": 14,
   "metadata": {},
   "outputs": [],
   "source": [
    "def letter_counter(word):\n",
    "    letter_count = [0] * 26\n",
    "    for letter in word:\n",
    "        letter_count[ord(letter) - 97] += 1\n",
    "    return letter_count\n",
    "# Removes words not possible\n",
    "def removeWordsNotPossibleGOG(remaining_words, guess, GOG):\n",
    "    # Grab amount of correct letters\n",
    "    letter_count_current= [0] * 26\n",
    "    for spot, color in enumerate(GOG):\n",
    "        guessLetter = guess[spot]\n",
    "        guessNum = ord(guessLetter) - 97\n",
    "        if (color == \"green\"):\n",
    "            letter_count_current[guessNum] += 1\n",
    "        elif (color == \"orange\"):\n",
    "            letter_count_current[guessNum] += 1\n",
    "\n",
    "    # Removes words from list without knowing the correct word (given GOG)\n",
    "    # -----------------------------------------\n",
    "    # Remove words from list\n",
    "    # -----------------------------------------\n",
    "    # if green -> Remove all without that spot\n",
    "    # if orange -> remove all within that spot and less num of chars of each type\n",
    "    # if gray -> remove all with those letters\n",
    "    for spot, color in enumerate(GOG):\n",
    "        guessLetter = guess[spot]\n",
    "        guessNum = ord(guessLetter) - 97\n",
    "        if (color == \"green\"):\n",
    "            # all equal in that spot remain\n",
    "            remaining_words = [x for x in remaining_words if (x[spot] == guessLetter)]\n",
    "        elif (color == \"orange\"):\n",
    "            # all not equal in that spot remain\n",
    "            remaining_words = [x for x in remaining_words if (x[spot] is not guessLetter)]\n",
    "            # all with correct number of chars remain:\n",
    "        else: # Gray\n",
    "            # Gray -> letter doesn't exist or all already found (EE _ _ E, last E could be gray)\n",
    "            # Remove all words with greater than found number of that letter\n",
    "            # aka keep all with less than or equal\n",
    "            remaining_words = [x for x in remaining_words if (letter_counter(x)[guessNum] <= letter_count_current[guessNum])]\n",
    "                \n",
    "    return (remaining_words, GOG)\n",
    "def removeWordsNotPossible(remaining_words, guess, correct_word):\n",
    "    # Compute letter count for correct_word\n",
    "    correct_letter_count = letter_counter(correct_word)\n",
    "    \n",
    "    # ----------------------------------------\n",
    "    # Generate Greens/Oranges/Grays\n",
    "    # ----------------------------------------\n",
    "    GOG = [None] * len(guess)\n",
    "    letter_count_current = [0] * 26\n",
    "    \n",
    "    # Note:\n",
    "    # Green must be done before any orange or gray because of triples\n",
    "    # example: actual: EXXXE, guess: EE _ _ E. If orange/greens go at\n",
    "    # the same time, then the second E would be marked orange when it should be gray\n",
    "    for spot, letter in enumerate(guess):\n",
    "        letterNum = ord(letter) - 97\n",
    "        if (letter == correct_word[spot]):\n",
    "            # GREEN\n",
    "            GOG[spot] = \"green\"\n",
    "            letter_count_current[letterNum] += 1\n",
    "    for spot, letter in enumerate(guess):\n",
    "        letterNum = ord(letter) - 97\n",
    "        # Is there already counted letters of this type? are there more to count?\n",
    "        if (GOG[spot] == \"green\"):\n",
    "            continue #ignore this one\n",
    "        elif (letter_count_current[letterNum] < correct_letter_count[letterNum]):\n",
    "            # ORANGE\n",
    "            GOG[spot] = \"orange\"\n",
    "            letter_count_current[letterNum] += 1\n",
    "        else:\n",
    "            GOG[spot] = \"gray\"\n",
    "    # ----------------END---------------------\n",
    "    \n",
    "    # -----------------------------------------\n",
    "    # Remove words from list\n",
    "    # -----------------------------------------\n",
    "    # if green -> Remove all without that spot\n",
    "    # if orange -> remove all within that spot and less num of chars of each type\n",
    "    # if gray -> remove all with those letters\n",
    "    for spot, color in enumerate(GOG):\n",
    "        guessLetter = guess[spot]\n",
    "        guessNum = ord(guessLetter) - 97\n",
    "        if (color == \"green\"):\n",
    "            # all equal in that spot remain\n",
    "            remaining_words = [x for x in remaining_words if (x[spot] == guessLetter)]\n",
    "        elif (color == \"orange\"):\n",
    "            # all not equal in that spot remain\n",
    "            remaining_words = [x for x in remaining_words if (x[spot] is not guessLetter)]\n",
    "            # all with correct number of chars remain:\n",
    "        else: # Gray\n",
    "            # Gray -> letter doesn't exist or all already found (EE _ _ E, last E could be gray)\n",
    "            # Remove all words with greater than found number of that letter\n",
    "            # aka keep all with less than or equal\n",
    "            remaining_words = [x for x in remaining_words if (letter_counter(x)[guessNum] <= letter_count_current[guessNum])]\n",
    "                \n",
    "    return (remaining_words, GOG)"
   ]
  },
  {
   "cell_type": "code",
   "execution_count": 41,
   "metadata": {},
   "outputs": [
    {
     "data": {
      "text/plain": [
       "'u'"
      ]
     },
     "execution_count": 41,
     "metadata": {},
     "output_type": "execute_result"
    }
   ],
   "source": [
    "correct_word[3]"
   ]
  },
  {
   "cell_type": "code",
   "execution_count": 38,
   "metadata": {},
   "outputs": [],
   "source": [
    "def random_solver(correct_word, base_words):\n",
    "    count = 0\n",
    "    remaining_words = base_words.copy()\n",
    "    guess = \"\"\n",
    "    guessList = []\n",
    "    while (guess is not correct_word):\n",
    "        count += 1\n",
    "\n",
    "        guess = remaining_words[random.randrange(len(remaining_words))]\n",
    "        guessList.append(guess)\n",
    "        remaining_words, _ = removeWordsNotPossible(remaining_words, guess, correct_word)\n",
    "    return guessList"
   ]
  },
  {
   "cell_type": "code",
   "execution_count": 39,
   "metadata": {},
   "outputs": [],
   "source": [
    "# Random guesser\n",
    "import random\n",
    "random.seed(0)\n",
    "N = len(base_words)\n",
    "\n",
    "lengthToCapture = 10\n",
    "counts = [0] * lengthToCapture\n",
    "for correct_word in base_words:\n",
    "    guessList = random_solver(correct_word, base_words)\n",
    "    L = len(guessList)\n",
    "    if (L <= lengthToCapture-1):\n",
    "        counts[L-1] += 1\n",
    "    else:\n",
    "        counts[lengthToCapture-1] += 1"
   ]
  },
  {
   "cell_type": "code",
   "execution_count": 36,
   "metadata": {},
   "outputs": [
    {
     "data": {
      "text/plain": [
       "20840"
      ]
     },
     "execution_count": 36,
     "metadata": {},
     "output_type": "execute_result"
    }
   ],
   "source": [
    "len(percents)"
   ]
  },
  {
   "cell_type": "code",
   "execution_count": 37,
   "metadata": {},
   "outputs": [
    {
     "data": {
      "text/plain": [
       "Text(0.5, 1.0, 'Random Guesser')"
      ]
     },
     "execution_count": 37,
     "metadata": {},
     "output_type": "execute_result"
    },
    {
     "data": {
      "image/png": "[encoded data removed]",
      "text/plain": [
       "<Figure size 640x480 with 1 Axes>"
      ]
     },
     "metadata": {
      "needs_background": "light"
     },
     "output_type": "display_data"
    }
   ],
   "source": [
    "import matplotlib.pyplot as plt\n",
    "import numpy as np\n",
    "plt.figure(figsize=(8, 6), dpi=80)\n",
    "counts = np.array(counts)\n",
    "percents = np.array(counts, dtype='float') / np.sum(counts)\n",
    "#percents = np.trim_zeros(percents,'b')\n",
    "plt.bar([\"1\",\"2\",\"3\",\"4\",\"5\",\"6\",\"7+\", \"8\", \"9\", \"10+\"],percents)\n",
    "plt.plot(percents)\n",
    "plt.ylabel(\"Percentage\")\n",
    "plt.xlabel(\"Num Guesses\")\n",
    "plt.title(\"Random Guesser\")"
   ]
  }
 ],
 "metadata": {
  "kernelspec": {
   "display_name": "Python 3",
   "language": "python",
   "name": "python3"
  },
  "language_info": {
   "codemirror_mode": {
    "name": "ipython",
    "version": 3
   },
   "file_extension": ".py",
   "mimetype": "text/x-python",
   "name": "python",
   "nbconvert_exporter": "python",
   "pygments_lexer": "ipython3",
   "version": "3.7.1"
  }
 },
 "nbformat": 4,
 "nbformat_minor": 2
}
